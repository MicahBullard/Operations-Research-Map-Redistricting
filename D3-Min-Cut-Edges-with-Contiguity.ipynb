{
 "cells": [
  {
   "cell_type": "code",
   "execution_count": 1,
   "metadata": {},
   "outputs": [],
   "source": [
    "import json\n",
    "from networkx.readwrite import json_graph\n",
    "\n",
    "def read_graph_from_json(json_file):\n",
    "    with open(json_file) as f:\n",
    "        data = json.load(f)\n",
    "    return json_graph.adjacency_graph(data) "
   ]
  },
  {
   "cell_type": "code",
   "execution_count": 2,
   "metadata": {},
   "outputs": [],
   "source": [
    "# Read Oklahoma county graph from the json file \"OK_county.json\"\n",
    "#filepath = 'districting-data\\\\'\n",
    "filename = 'MT_county.json'\n",
    "\n",
    "G = read_graph_from_json( filename )"
   ]
  },
  {
   "cell_type": "code",
   "execution_count": 3,
   "metadata": {},
   "outputs": [],
   "source": [
    "for node in G.nodes:\n",
    "    G.nodes[node]['TOTPOP'] = G.nodes[node]['P0010001']"
   ]
  },
  {
   "cell_type": "code",
   "execution_count": 4,
   "metadata": {},
   "outputs": [
    {
     "name": "stdout",
     "output_type": "stream",
     "text": [
      "Using L = 542112 and U = 542113 and k = 2\n"
     ]
    }
   ],
   "source": [
    "# Let's impose a 2% population deviation (+/-1%)\n",
    "deviation = 0.01\n",
    "\n",
    "import math\n",
    "k = 2          # number of districts\n",
    "total_population = sum( G.nodes[node]['TOTPOP'] for node in G.nodes )\n",
    "\n",
    "#L = math.ceil( ( 1 - deviation / 2 ) * total_population / k )\n",
    "#U = math.floor( ( 1 + deviation / 2 ) * total_population / k )\n",
    "L = math.floor( total_population / k ) #one person deviation\n",
    "U = math.ceil( total_population / k )  #one person deviation\n",
    "print(\"Using L =\",L,\"and U =\",U,\"and k =\",k)"
   ]
  },
  {
   "cell_type": "code",
   "execution_count": 5,
   "metadata": {},
   "outputs": [
    {
     "name": "stdout",
     "output_type": "stream",
     "text": [
      "Set parameter Username\n",
      "Set parameter LicenseID to value 2628084\n",
      "Academic license - for non-commercial use only - expires 2026-02-25\n"
     ]
    }
   ],
   "source": [
    "import gurobipy as gp\n",
    "from gurobipy import GRB\n",
    "\n",
    "# create model \n",
    "m = gp.Model()"
   ]
  },
  {
   "cell_type": "code",
   "execution_count": 6,
   "metadata": {},
   "outputs": [
    {
     "name": "stdout",
     "output_type": "stream",
     "text": [
      "Discarded solution information\n"
     ]
    }
   ],
   "source": [
    "m.reset()"
   ]
  },
  {
   "cell_type": "code",
   "execution_count": 7,
   "metadata": {},
   "outputs": [],
   "source": [
    "# create variables\n",
    "x = m.addVars(G.nodes, k, vtype=GRB.BINARY) # x[i,j] equals one when county i is assigned to district j\n",
    "y = m.addVars(G.edges, vtype=GRB.BINARY)    # y[u,v] equals one when edge {u,v} is cut"
   ]
  },
  {
   "cell_type": "code",
   "execution_count": 8,
   "metadata": {},
   "outputs": [],
   "source": [
    "# objective is to minimize cut edges\n",
    "m.setObjective( gp.quicksum( y[u,v] for u,v in G.edges ), GRB.MINIMIZE )"
   ]
  },
  {
   "cell_type": "code",
   "execution_count": 9,
   "metadata": {},
   "outputs": [],
   "source": [
    "# add constraints saying that each county i is assigned to one district\n",
    "m.addConstrs( gp.quicksum(x[i,j] for j in range(k)) == 1 for i in G.nodes)\n",
    "\n",
    "# add constraints saying that each district has population at least L and at most U\n",
    "m.addConstrs( gp.quicksum( G.nodes[i]['TOTPOP'] * x[i,j] for i in G.nodes) >= L for j in range(k) )\n",
    "m.addConstrs( gp.quicksum( G.nodes[i]['TOTPOP'] * x[i,j] for i in G.nodes) <= U for j in range(k) )\n",
    "\n",
    "# add constraints saying that edge {u,v} is cut if u is assigned to district j but v is not.\n",
    "m.addConstrs( x[u,j] - x[v,j] <= y[u,v] for u,v in G.edges for j in range(k))\n",
    "\n",
    "m.update()"
   ]
  },
  {
   "cell_type": "code",
   "execution_count": 10,
   "metadata": {},
   "outputs": [],
   "source": [
    "# Now, let's add contiguity constraints and re-solve the model.\n",
    "# We will use the contiguity constraints of Hojny et al. (MPC, 2021)\n",
    "#   https://link.springer.com/article/10.1007/s12532-020-00186-3\n",
    "\n",
    "# Add root variables: r[i,j] equals 1 if node i is the \"root\" of district j\n",
    "r = m.addVars( G.nodes, k, vtype=GRB.BINARY )\n",
    "\n",
    "# Add flow variables: f[u,v] = amount of flow sent across arc uv \n",
    "#  Flows are sent across arcs of the directed version of G which we call DG\n",
    "\n",
    "import networkx as nx\n",
    "DG = nx.DiGraph(G)      # directed version of G\n",
    "\n",
    "f = m.addVars( DG.edges )"
   ]
  },
  {
   "cell_type": "code",
   "execution_count": 11,
   "metadata": {},
   "outputs": [],
   "source": [
    "# The big-M proposed by Hojny et al.\n",
    "M = G.number_of_nodes() - k + 1\n",
    "\n",
    "# Each district j should have one root\n",
    "m.addConstrs( gp.quicksum( r[i,j] for i in G.nodes ) == 1 for j in range(k) )\n",
    "\n",
    "# If node i is not assigned to district j, then it cannot be its root\n",
    "m.addConstrs( r[i,j] <= x[i,j] for i in G.nodes for j in range(k) ) \n",
    "\n",
    "# if not a root, consume some flow.\n",
    "# if a root, only send out (so much) flow.\n",
    "m.addConstrs( gp.quicksum( f[j,i] - f[i,j] for j in G.neighbors(i) ) \n",
    "             >= 1 - M * gp.quicksum( r[i,j] for j in range(k) ) for i in G.nodes )\n",
    "\n",
    "# do not send flow across cut edges\n",
    "m.addConstrs( f[i,j] + f[j,i] <= M * ( 1 - y[i,j] ) for i,j in G.edges )\n",
    "\n",
    "m.update()"
   ]
  },
  {
   "cell_type": "code",
   "execution_count": 12,
   "metadata": {},
   "outputs": [
    {
     "name": "stdout",
     "output_type": "stream",
     "text": [
      "Gurobi Optimizer version 12.0.1 build v12.0.1rc0 (mac64[arm] - Darwin 20.6.0 20G165)\n",
      "\n",
      "CPU model: Apple M1\n",
      "Thread count: 8 physical cores, 8 logical processors, using up to 8 threads\n",
      "\n",
      "Optimize a model with 644 rows, 638 columns and 2578 nonzeros\n",
      "Model fingerprint: 0x045015d8\n",
      "Variable types: 276 continuous, 362 integer (362 binary)\n",
      "Coefficient statistics:\n",
      "  Matrix range     [1e+00, 2e+05]\n",
      "  Objective range  [1e+00, 1e+00]\n",
      "  Bounds range     [1e+00, 1e+00]\n",
      "  RHS range        [1e+00, 5e+05]\n",
      "Presolve removed 58 rows and 56 columns\n",
      "Presolve time: 0.00s\n",
      "Presolved: 586 rows, 582 columns, 2354 nonzeros\n",
      "Variable types: 276 continuous, 306 integer (306 binary)\n",
      "\n",
      "Root relaxation: objective 0.000000e+00, 155 iterations, 0.00 seconds (0.00 work units)\n",
      "\n",
      "    Nodes    |    Current Node    |     Objective Bounds      |     Work\n",
      " Expl Unexpl |  Obj  Depth IntInf | Incumbent    BestBd   Gap | It/Node Time\n",
      "\n",
      "     0     0    0.00000    0   60          -    0.00000      -     -    0s\n",
      "     0     0    0.65357    0   66          -    0.65357      -     -    0s\n",
      "     0     0    1.12715    0   66          -    1.12715      -     -    0s\n",
      "     0     0    3.82307    0   65          -    3.82307      -     -    0s\n",
      "     0     0    3.82307    0   65          -    3.82307      -     -    0s\n",
      "     0     0    5.15943    0   65          -    5.15943      -     -    0s\n",
      "     0     0    5.15943    0   68          -    5.15943      -     -    0s\n",
      "     0     0    5.15943    0   63          -    5.15943      -     -    0s\n",
      "     0     0    5.15943    0   63          -    5.15943      -     -    0s\n",
      "     0     2    5.15943    0   63          -    5.15943      -     -    0s\n",
      " 32857 18997   23.46941   50   35          -   16.19698      -  40.0    5s\n",
      " 81108 45655   33.29391   46   24          -   17.59542      -  40.9   10s\n",
      " 129072 72270   25.43395   41   36          -   18.28708      -  41.1   15s\n",
      " 174220 97003   38.44562   42   46          -   18.78151      -  41.3   20s\n",
      " 223807 123382   26.11889   29   22          -   19.15186      -  41.2   25s\n",
      " 272770 147820   26.71697   34   28          -   19.44585      -  41.1   30s\n",
      " 322369 173122 infeasible   45               -   19.69894      -  41.1   35s\n",
      "*333355 29692              44      24.0000000   19.76272  17.7%  41.0   36s\n",
      " 362578 23285     cutoff   36        24.00000   20.82497  13.2%  39.6   40s\n",
      "\n",
      "Cutting planes:\n",
      "  Gomory: 2\n",
      "  Flow cover: 14\n",
      "\n",
      "Explored 400088 nodes (15107009 simplex iterations) in 42.37 seconds (67.62 work units)\n",
      "Thread count was 8 (of 8 available processors)\n",
      "\n",
      "Solution count 2: 24 24 \n",
      "\n",
      "Optimal solution found (tolerance 1.00e-04)\n",
      "Best objective 2.400000000000e+01, best bound 2.400000000000e+01, gap 0.0000%\n"
     ]
    }
   ],
   "source": [
    "# solve IP model\n",
    "m.optimize()"
   ]
  },
  {
   "cell_type": "code",
   "execution_count": 13,
   "metadata": {},
   "outputs": [
    {
     "name": "stdout",
     "output_type": "stream",
     "text": [
      "The number of cut edges is 24.0\n",
      "District 0 has population 542112 and contains counties ['Broadwater', 'Big Horn', 'Custer', 'Richland', 'Wibaux', 'Toole', 'Blaine', 'Judith Basin', 'Roosevelt', 'Fallon', 'McCone', 'Teton', 'Dawson', 'Powder River', 'Glacier', 'Hill', 'Treasure', 'Yellowstone', 'Wheatland', 'Valley', 'Petroleum', 'Phillips', 'Sheridan', 'Daniels', 'Prairie', 'Musselshell', 'Chouteau', 'Meagher', 'Rosebud', 'Sweet Grass', 'Pondera', 'Garfield', 'Carter', 'Liberty', 'Cascade', 'Flathead', 'Fergus']\n",
      "\n",
      "District 1 has population 542113 and contains counties ['Sanders', 'Lincoln', 'Granite', 'Golden Valley', 'Carbon', 'Powell', 'Park', 'Stillwater', 'Lake', 'Mineral', 'Jefferson', 'Deer Lodge', 'Ravalli', 'Missoula', 'Madison', 'Beaverhead', 'Lewis and Clark', 'Gallatin', 'Silver Bow']\n",
      "\n"
     ]
    }
   ],
   "source": [
    "print(\"The number of cut edges is\",m.objval)\n",
    "\n",
    "# retrieve the districts and their populations\n",
    "districts = [ [i for i in G.nodes if x[i,j].x > 0.5] for j in range(k)]\n",
    "district_counties = [ [ G.nodes[i][\"NAME20\"] for i in districts[j] ] for j in range(k)]\n",
    "district_populations = [ sum(G.nodes[i][\"TOTPOP\"] for i in districts[j]) for j in range(k) ]\n",
    "\n",
    "# print district info\n",
    "for j in range(k):\n",
    "    print(\"District\",j,\"has population\",district_populations[j],\"and contains counties\",district_counties[j])\n",
    "    print(\"\")"
   ]
  },
  {
   "cell_type": "code",
   "execution_count": 14,
   "metadata": {},
   "outputs": [
    {
     "name": "stdout",
     "output_type": "stream",
     "text": [
      "Gurobi Optimizer version 12.0.1 build v12.0.1rc0 (mac64[arm] - Darwin 20.6.0 20G165)\n",
      "\n",
      "CPU model: Apple M1\n",
      "Thread count: 8 physical cores, 8 logical processors, using up to 8 threads\n",
      "\n",
      "Optimize a model with 644 rows, 638 columns and 2578 nonzeros\n",
      "Model fingerprint: 0x045015d8\n",
      "Variable types: 276 continuous, 362 integer (362 binary)\n",
      "Coefficient statistics:\n",
      "  Matrix range     [1e+00, 2e+05]\n",
      "  Objective range  [1e+00, 1e+00]\n",
      "  Bounds range     [1e+00, 1e+00]\n",
      "  RHS range        [1e+00, 5e+05]\n",
      "Presolved: 586 rows, 582 columns, 2354 nonzeros\n",
      "\n",
      "Continuing optimization...\n",
      "\n",
      "\n",
      "Cutting planes:\n",
      "  Gomory: 2\n",
      "  Flow cover: 14\n",
      "\n",
      "Explored 400088 nodes (15107009 simplex iterations) in 0.00 seconds (0.00 work units)\n",
      "Thread count was 8 (of 8 available processors)\n",
      "\n",
      "Solution count 2: 24 24 \n",
      "\n",
      "Optimal solution found (tolerance 1.00e-04)\n",
      "Best objective 2.400000000000e+01, best bound 2.400000000000e+01, gap 0.0000%\n"
     ]
    }
   ],
   "source": [
    "# To solve the MIP faster, let's fix some district roots:\n",
    "\n",
    "#r[6,0].LB = 1  # Fix Oklahoma County as root of district 0\n",
    "#r[34,1].LB = 1 # Fix Tulsa County as root of district 1\n",
    "#r[8,2].LB = 1  # Fix Comanche County as root of district 2\n",
    "\n",
    "#m.reset()      # Force Gurobi to start solving 'from scratch'\n",
    "m.optimize()"
   ]
  },
  {
   "cell_type": "code",
   "execution_count": 15,
   "metadata": {},
   "outputs": [
    {
     "name": "stdout",
     "output_type": "stream",
     "text": [
      "The number of cut edges is 24.0\n",
      "District 0 has population 542112 and contains counties ['Broadwater', 'Big Horn', 'Custer', 'Richland', 'Wibaux', 'Toole', 'Blaine', 'Judith Basin', 'Roosevelt', 'Fallon', 'McCone', 'Teton', 'Dawson', 'Powder River', 'Glacier', 'Hill', 'Treasure', 'Yellowstone', 'Wheatland', 'Valley', 'Petroleum', 'Phillips', 'Sheridan', 'Daniels', 'Prairie', 'Musselshell', 'Chouteau', 'Meagher', 'Rosebud', 'Sweet Grass', 'Pondera', 'Garfield', 'Carter', 'Liberty', 'Cascade', 'Flathead', 'Fergus']\n",
      "\n",
      "District 1 has population 542113 and contains counties ['Sanders', 'Lincoln', 'Granite', 'Golden Valley', 'Carbon', 'Powell', 'Park', 'Stillwater', 'Lake', 'Mineral', 'Jefferson', 'Deer Lodge', 'Ravalli', 'Missoula', 'Madison', 'Beaverhead', 'Lewis and Clark', 'Gallatin', 'Silver Bow']\n",
      "\n"
     ]
    }
   ],
   "source": [
    "print(\"The number of cut edges is\",m.objval)\n",
    "\n",
    "# retrieve the districts and their populations\n",
    "districts = [ [i for i in G.nodes if x[i,j].x > 0.5] for j in range(k)]\n",
    "district_counties = [ [ G.nodes[i][\"NAME20\"] for i in districts[j] ] for j in range(k)]\n",
    "district_populations = [ sum(G.nodes[i][\"TOTPOP\"] for i in districts[j]) for j in range(k) ]\n",
    "\n",
    "# print district info\n",
    "for j in range(k):\n",
    "    print(\"District\",j,\"has population\",district_populations[j],\"and contains counties\",district_counties[j])\n",
    "    print(\"\")"
   ]
  },
  {
   "cell_type": "code",
   "execution_count": 16,
   "metadata": {},
   "outputs": [],
   "source": [
    "# Let's draw it on a map\n",
    "import geopandas as gpd"
   ]
  },
  {
   "cell_type": "code",
   "execution_count": 17,
   "metadata": {},
   "outputs": [],
   "source": [
    "# Read Oklahoma county shapefile from \"OK_county.shp\"\n",
    "#filepath = 'districting-data\\\\'\n",
    "filename = 'MT_county.shp'\n",
    "\n",
    "# Read geopandas dataframe from file\n",
    "df = gpd.read_file( filename )"
   ]
  },
  {
   "cell_type": "code",
   "execution_count": 18,
   "metadata": {},
   "outputs": [
    {
     "data": {
      "image/png": "[encoded data removed]",
      "text/plain": [
       "<Figure size 640x480 with 1 Axes>"
      ]
     },
     "metadata": {},
     "output_type": "display_data"
    }
   ],
   "source": [
    "# Which district is each county assigned to?\n",
    "assignment = [ -1 for i in G.nodes ]\n",
    "\n",
    "labeling = { i : j for i in G.nodes for j in range(k) if x[i,j].x > 0.5 }\n",
    "\n",
    "# Now add the assignments to a column of the dataframe and map it\n",
    "node_with_this_geoid = { G.nodes[i]['GEOID20'] : i for i in G.nodes }\n",
    "\n",
    "# pick a position u in the dataframe\n",
    "for u in range(G.number_of_nodes()):\n",
    "    \n",
    "    geoid = df['GEOID20'][u]\n",
    "    \n",
    "    # what node in G has this geoid?\n",
    "    i = node_with_this_geoid[geoid]\n",
    "    \n",
    "    # position u in the dataframe should be given\n",
    "    # the same district # that county i has in 'labeling'\n",
    "    assignment[u] = labeling[i]\n",
    "    \n",
    "# now add the assignments to a column of our dataframe and then map it\n",
    "df['assignment'] = assignment\n",
    "\n",
    "my_fig = df.plot(column='assignment').get_figure()"
   ]
  },
  {
   "cell_type": "code",
   "execution_count": null,
   "metadata": {},
   "outputs": [],
   "source": []
  }
 ],
 "metadata": {
  "kernelspec": {
   "display_name": "Python 3 (ipykernel)",
   "language": "python",
   "name": "python3"
  },
  "language_info": {
   "codemirror_mode": {
    "name": "ipython",
    "version": 3
   },
   "file_extension": ".py",
   "mimetype": "text/x-python",
   "name": "python",
   "nbconvert_exporter": "python",
   "pygments_lexer": "ipython3",
   "version": "3.12.7"
  }
 },
 "nbformat": 4,
 "nbformat_minor": 4
}
